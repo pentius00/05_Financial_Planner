{
 "cells": [
  {
   "cell_type": "markdown",
   "metadata": {},
   "source": [
    "# Financial Planning with APIs and Simulations\n",
    "\n",
    "In this Challenge, you’ll create two financial analysis tools by using a single Jupyter notebook:\n",
    "\n",
    "Part 1: A financial planner for emergencies. The members will be able to use this tool to visualize their current savings. The members can then determine if they have enough reserves for an emergency fund.\n",
    "\n",
    "Part 2: A financial planner for retirement. This tool will forecast the performance of their retirement portfolio in 30 years. To do this, the tool will make an Alpaca API call via the Alpaca SDK to get historical price data for use in Monte Carlo simulations.\n",
    "\n",
    "You’ll use the information from the Monte Carlo simulation to answer questions about the portfolio in your Jupyter notebook.\n",
    "\n"
   ]
  },
  {
   "cell_type": "code",
   "execution_count": 1,
   "metadata": {},
   "outputs": [],
   "source": [
    "# Import the required libraries and dependencies\n",
    "import os\n",
    "import requests\n",
    "import json\n",
    "import pandas as pd\n",
    "from dotenv import load_dotenv\n",
    "import alpaca_trade_api as tradeapi\n",
    "from MCForecastTools import MCSimulation\n",
    "\n",
    "import datetime as dt\n",
    "\n",
    "%matplotlib inline"
   ]
  },
  {
   "cell_type": "code",
   "execution_count": 2,
   "metadata": {},
   "outputs": [
    {
     "data": {
      "text/plain": [
       "True"
      ]
     },
     "execution_count": 2,
     "metadata": {},
     "output_type": "execute_result"
    }
   ],
   "source": [
    "# Load the environment variables from the .env file\n",
    "#by calling the load_dotenv function\n",
    "load_dotenv()"
   ]
  },
  {
   "cell_type": "markdown",
   "metadata": {},
   "source": [
    "## Part 1: Create a Financial Planner for Emergencies"
   ]
  },
  {
   "cell_type": "markdown",
   "metadata": {},
   "source": [
    "### Evaluate the Cryptocurrency Wallet by Using the Requests Library\n",
    "\n",
    "In this section, you’ll determine the current value of a member’s cryptocurrency wallet. You’ll collect the current prices for the Bitcoin and Ethereum cryptocurrencies by using the Python Requests library. For the prototype, you’ll assume that the member holds the 1.2 Bitcoins (BTC) and 5.3 Ethereum coins (ETH). To do all this, complete the following steps:\n",
    "\n",
    "1. Create a variable named `monthly_income`, and set its value to `12000`.\n",
    "\n",
    "2. Use the Requests library to get the current price (in US dollars) of Bitcoin (BTC) and Ethereum (ETH) by using the API endpoints that the starter code supplies.\n",
    "\n",
    "3. Navigate the JSON response object to access the current price of each coin, and store each in a variable.\n",
    "\n",
    "    > **Hint** Note the specific identifier for each cryptocurrency in the API JSON response. The Bitcoin identifier is `1`, and the Ethereum identifier is `1027`.\n",
    "\n",
    "4. Calculate the value, in US dollars, of the current amount of each cryptocurrency and of the entire cryptocurrency wallet.\n",
    "\n"
   ]
  },
  {
   "cell_type": "code",
   "execution_count": 3,
   "metadata": {},
   "outputs": [],
   "source": [
    "# The current number of coins for each cryptocurrency asset held in the portfolio.\n",
    "btc_coins = 1.2\n",
    "eth_coins = 5.3"
   ]
  },
  {
   "cell_type": "markdown",
   "metadata": {},
   "source": [
    "#### Step 1: Create a variable named `monthly_income`, and set its value to `12000`."
   ]
  },
  {
   "cell_type": "code",
   "execution_count": 4,
   "metadata": {},
   "outputs": [],
   "source": [
    "# The monthly amount for the member's household income\n",
    "monthly_income = 12000"
   ]
  },
  {
   "cell_type": "markdown",
   "metadata": {},
   "source": [
    "#### Review the endpoint URLs for the API calls to Free Crypto API in order to get the current pricing information for both BTC and ETH."
   ]
  },
  {
   "cell_type": "code",
   "execution_count": 5,
   "metadata": {},
   "outputs": [],
   "source": [
    "# The Free Crypto API Call endpoint URLs for the held cryptocurrency assets\n",
    "btc_url = \"https://api.alternative.me/v2/ticker/Bitcoin/?convert=USD\"\n",
    "eth_url = \"https://api.alternative.me/v2/ticker/Ethereum/?convert=USD\""
   ]
  },
  {
   "cell_type": "markdown",
   "metadata": {},
   "source": [
    "#### Step 2. Use the Requests library to get the current price (in US dollars) of Bitcoin (BTC) and Ethereum (ETH) by using the API endpoints that the starter code supplied."
   ]
  },
  {
   "cell_type": "code",
   "execution_count": 6,
   "metadata": {},
   "outputs": [
    {
     "name": "stdout",
     "output_type": "stream",
     "text": [
      "{\n",
      "    \"data\": {\n",
      "        \"1\": {\n",
      "            \"circulating_supply\": 18759412,\n",
      "            \"id\": 1,\n",
      "            \"last_updated\": 1626573872,\n",
      "            \"max_supply\": 21000000,\n",
      "            \"name\": \"Bitcoin\",\n",
      "            \"quotes\": {\n",
      "                \"USD\": {\n",
      "                    \"market_cap\": 603950783299,\n",
      "                    \"percent_change_1h\": 0.522616987567798,\n",
      "                    \"percent_change_24h\": 2.73611356737974,\n",
      "                    \"percent_change_7d\": -4.42719498854532,\n",
      "                    \"percentage_change_1h\": 0.522616987567798,\n",
      "                    \"percentage_change_24h\": 2.73611356737974,\n",
      "                    \"percentage_change_7d\": -4.42719498854532,\n",
      "                    \"price\": 32212.0,\n",
      "                    \"volume_24h\": 19074593964\n",
      "                }\n",
      "            },\n",
      "            \"rank\": 1,\n",
      "            \"symbol\": \"BTC\",\n",
      "            \"total_supply\": 18759412,\n",
      "            \"website_slug\": \"bitcoin\"\n",
      "        }\n",
      "    },\n",
      "    \"metadata\": {\n",
      "        \"error\": null,\n",
      "        \"num_cryptocurrencies\": 3123,\n",
      "        \"timestamp\": 1626573872\n",
      "    }\n",
      "}\n"
     ]
    }
   ],
   "source": [
    "# Using the Python requests library, make an API call to access the current price of BTC\n",
    "btc_response = requests.get(btc_url).json()\n",
    "\n",
    "# Use the json.dumps function to review the response data from the API call\n",
    "# Use the indent and sort_keys parameters to make the response object readable\n",
    "print(json.dumps(btc_response, indent=4, sort_keys=True))\n"
   ]
  },
  {
   "cell_type": "code",
   "execution_count": 7,
   "metadata": {},
   "outputs": [
    {
     "name": "stdout",
     "output_type": "stream",
     "text": [
      "{\n",
      "    \"data\": {\n",
      "        \"1027\": {\n",
      "            \"circulating_supply\": 116736310,\n",
      "            \"id\": 1027,\n",
      "            \"last_updated\": 1626573868,\n",
      "            \"max_supply\": 0,\n",
      "            \"name\": \"Ethereum\",\n",
      "            \"quotes\": {\n",
      "                \"USD\": {\n",
      "                    \"market_cap\": 230758229375,\n",
      "                    \"percent_change_1h\": 0.548778875111524,\n",
      "                    \"percent_change_24h\": 5.44547417335922,\n",
      "                    \"percent_change_7d\": -6.87337505955005,\n",
      "                    \"percentage_change_1h\": 0.548778875111524,\n",
      "                    \"percentage_change_24h\": 5.44547417335922,\n",
      "                    \"percentage_change_7d\": -6.87337505955005,\n",
      "                    \"price\": 1977.13,\n",
      "                    \"volume_24h\": 16350525935\n",
      "                }\n",
      "            },\n",
      "            \"rank\": 2,\n",
      "            \"symbol\": \"ETH\",\n",
      "            \"total_supply\": 116736310,\n",
      "            \"website_slug\": \"ethereum\"\n",
      "        }\n",
      "    },\n",
      "    \"metadata\": {\n",
      "        \"error\": null,\n",
      "        \"num_cryptocurrencies\": 3123,\n",
      "        \"timestamp\": 1626573868\n",
      "    }\n",
      "}\n"
     ]
    }
   ],
   "source": [
    "# Using the Python requests library, make an API call to access the current price ETH\n",
    "eth_response = requests.get(eth_url).json()\n",
    "\n",
    "# Use the json.dumps function to review the response data from the API call\n",
    "# Use the indent and sort_keys parameters to make the response object readable\n",
    "print(json.dumps(eth_response, indent=4, sort_keys=True))\n"
   ]
  },
  {
   "cell_type": "markdown",
   "metadata": {},
   "source": [
    "#### Step 3: Navigate the JSON response object to access the current price of each coin, and store each in a variable."
   ]
  },
  {
   "cell_type": "code",
   "execution_count": 8,
   "metadata": {},
   "outputs": [
    {
     "name": "stdout",
     "output_type": "stream",
     "text": [
      "$32,212.00\n"
     ]
    }
   ],
   "source": [
    "# Navigate the BTC response object to access the current price of BTC\n",
    "btc_price = btc_response['data']['1']['quotes']['USD']['price']\n",
    "\n",
    "# Print the current price of BTC\n",
    "print(f'${btc_price:,.2f}')"
   ]
  },
  {
   "cell_type": "code",
   "execution_count": 9,
   "metadata": {},
   "outputs": [
    {
     "name": "stdout",
     "output_type": "stream",
     "text": [
      "$1,977.13\n"
     ]
    }
   ],
   "source": [
    "# Navigate the BTC response object to access the current price of ETH\n",
    "eth_price = eth_response['data']['1027']['quotes']['USD']['price']\n",
    "\n",
    "# Print the current price of ETH\n",
    "print(f'${eth_price:,.2f}')\n"
   ]
  },
  {
   "cell_type": "markdown",
   "metadata": {},
   "source": [
    "### Step 4: Calculate the value, in US dollars, of the current amount of each cryptocurrency and of the entire cryptocurrency wallet."
   ]
  },
  {
   "cell_type": "code",
   "execution_count": 10,
   "metadata": {},
   "outputs": [
    {
     "name": "stdout",
     "output_type": "stream",
     "text": [
      "$38,654.40\n"
     ]
    }
   ],
   "source": [
    "# Compute the current value of the BTC holding \n",
    "btc_value = btc_price * btc_coins\n",
    "\n",
    "# Print current value of your holding in BTC\n",
    "print(f'${btc_value:,.2f}')"
   ]
  },
  {
   "cell_type": "code",
   "execution_count": 11,
   "metadata": {},
   "outputs": [
    {
     "name": "stdout",
     "output_type": "stream",
     "text": [
      "$10,478.79\n"
     ]
    }
   ],
   "source": [
    "# Compute the current value of the ETH holding \n",
    "eth_value = eth_price * eth_coins\n",
    "\n",
    "# Print current value of your holding in ETH\n",
    "print(f'${eth_value:,.2f}')\n"
   ]
  },
  {
   "cell_type": "code",
   "execution_count": 12,
   "metadata": {},
   "outputs": [
    {
     "name": "stdout",
     "output_type": "stream",
     "text": [
      "$49,133.19\n"
     ]
    }
   ],
   "source": [
    "# Compute the total value of the cryptocurrency wallet\n",
    "# Add the value of the BTC holding to the value of the ETH holding\n",
    "total_crypto_wallet = btc_value + eth_value\n",
    "\n",
    "# Print current cryptocurrency wallet balance\n",
    "print(f'${total_crypto_wallet:,.2f}')"
   ]
  },
  {
   "cell_type": "markdown",
   "metadata": {},
   "source": [
    "### Evaluate the Stock and Bond Holdings by Using the Alpaca SDK\n",
    "\n",
    "In this section, you’ll determine the current value of a member’s stock and bond holdings. You’ll make an API call to Alpaca via the Alpaca SDK to get the current closing prices of the SPDR S&P 500 ETF Trust (ticker: SPY) and of the iShares Core US Aggregate Bond ETF (ticker: AGG). For the prototype, assume that the member holds 110 shares of SPY, which represents the stock portion of their portfolio, and 200 shares of AGG, which represents the bond portion. To do all this, complete the following steps:\n",
    "\n",
    "1. In the `Starter_Code` folder, create an environment file (`.env`) to store the values of your Alpaca API key and Alpaca secret key.\n",
    "\n",
    "2. Set the variables for the Alpaca API and secret keys. Using the Alpaca SDK, create the Alpaca `tradeapi.REST` object. In this object, include the parameters for the Alpaca API key, the secret key, and the version number.\n",
    "\n",
    "3. Set the following parameters for the Alpaca API call:\n",
    "\n",
    "    - `tickers`: Use the tickers for the member’s stock and bond holdings.\n",
    "\n",
    "    - `timeframe`: Use a time frame of one day.\n",
    "\n",
    "    - `start_date` and `end_date`: Use the same date for these parameters, and format them with the date of the previous weekday (or `2020-08-07`). This is because you want the one closing price for the most-recent trading day.\n",
    "\n",
    "4. Get the current closing prices for `SPY` and `AGG` by using the Alpaca `get_barset` function. Format the response as a Pandas DataFrame by including the `df` property at the end of the `get_barset` function.\n",
    "\n",
    "5. Navigating the Alpaca response DataFrame, select the `SPY` and `AGG` closing prices, and store them as variables.\n",
    "\n",
    "6. Calculate the value, in US dollars, of the current amount of shares in each of the stock and bond portions of the portfolio, and print the results.\n"
   ]
  },
  {
   "cell_type": "markdown",
   "metadata": {},
   "source": [
    "#### Review the total number of shares held in both (SPY) and (AGG)."
   ]
  },
  {
   "cell_type": "code",
   "execution_count": 13,
   "metadata": {},
   "outputs": [],
   "source": [
    "# Current amount of shares held in both the stock (SPY) and bond (AGG) portion of the portfolio.\n",
    "spy_shares = 110\n",
    "agg_shares = 200\n"
   ]
  },
  {
   "cell_type": "markdown",
   "metadata": {},
   "source": [
    "#### Step 1: In the `Starter_Code` folder, create an environment file (`.env`) to store the values of your Alpaca API key and Alpaca secret key."
   ]
  },
  {
   "cell_type": "markdown",
   "metadata": {},
   "source": [
    "#### Step 2: Set the variables for the Alpaca API and secret keys. Using the Alpaca SDK, create the Alpaca `tradeapi.REST` object. In this object, include the parameters for the Alpaca API key, the secret key, and the version number."
   ]
  },
  {
   "cell_type": "code",
   "execution_count": 14,
   "metadata": {},
   "outputs": [],
   "source": [
    "# Set the variables for the Alpaca API and secret keys\n",
    "alpaca_api_key = os.getenv('ALPACA_API_KEY')\n",
    "alpaca_secret_key = os.getenv('ALPACA_SECRET_KEY')\n",
    "\n",
    "# Create the Alpaca tradeapi.REST object\n",
    "alpaca = tradeapi.REST(alpaca_api_key, alpaca_secret_key, api_version='v2')"
   ]
  },
  {
   "cell_type": "markdown",
   "metadata": {},
   "source": [
    "#### Step 3: Set the following parameters for the Alpaca API call:\n",
    "\n",
    "- `tickers`: Use the tickers for the member’s stock and bond holdings.\n",
    "\n",
    "- `timeframe`: Use a time frame of one day.\n",
    "\n",
    "- `start_date` and `end_date`: Use the same date for these parameters, and format them with the date of the previous weekday (or `2020-08-07`). This is because you want the one closing price for the most-recent trading day.\n"
   ]
  },
  {
   "cell_type": "code",
   "execution_count": 15,
   "metadata": {},
   "outputs": [],
   "source": [
    "# Set the tickers for both the bond and stock portion of the portfolio\n",
    "tickers = ['SPY', 'AGG']\n",
    "\n",
    "# Set timeframe to 1D \n",
    "timeframe = '1D'\n",
    "# Format current date as ISO format\n",
    "# Set both the start and end date at the date of your prior weekday \n",
    "# This will give you the closing price of the previous trading day\n",
    "# Alternatively you can use a start and end date of 2020-08-07\n",
    "start_date = pd.Timestamp('2021-07-14', tz='America/New_York').isoformat()\n",
    "end_date = pd.Timestamp('2021-07-14', tz='America/New_York').isoformat()\n"
   ]
  },
  {
   "cell_type": "markdown",
   "metadata": {},
   "source": [
    "#### Step 4: Get the current closing prices for `SPY` and `AGG` by using the Alpaca `get_barset` function. Format the response as a Pandas DataFrame by including the `df` property at the end of the `get_barset` function."
   ]
  },
  {
   "cell_type": "code",
   "execution_count": 16,
   "metadata": {},
   "outputs": [
    {
     "data": {
      "text/html": [
       "<div>\n",
       "<style scoped>\n",
       "    .dataframe tbody tr th:only-of-type {\n",
       "        vertical-align: middle;\n",
       "    }\n",
       "\n",
       "    .dataframe tbody tr th {\n",
       "        vertical-align: top;\n",
       "    }\n",
       "\n",
       "    .dataframe thead tr th {\n",
       "        text-align: left;\n",
       "    }\n",
       "\n",
       "    .dataframe thead tr:last-of-type th {\n",
       "        text-align: right;\n",
       "    }\n",
       "</style>\n",
       "<table border=\"1\" class=\"dataframe\">\n",
       "  <thead>\n",
       "    <tr>\n",
       "      <th></th>\n",
       "      <th colspan=\"5\" halign=\"left\">AGG</th>\n",
       "      <th colspan=\"5\" halign=\"left\">SPY</th>\n",
       "    </tr>\n",
       "    <tr>\n",
       "      <th></th>\n",
       "      <th>open</th>\n",
       "      <th>high</th>\n",
       "      <th>low</th>\n",
       "      <th>close</th>\n",
       "      <th>volume</th>\n",
       "      <th>open</th>\n",
       "      <th>high</th>\n",
       "      <th>low</th>\n",
       "      <th>close</th>\n",
       "      <th>volume</th>\n",
       "    </tr>\n",
       "    <tr>\n",
       "      <th>time</th>\n",
       "      <th></th>\n",
       "      <th></th>\n",
       "      <th></th>\n",
       "      <th></th>\n",
       "      <th></th>\n",
       "      <th></th>\n",
       "      <th></th>\n",
       "      <th></th>\n",
       "      <th></th>\n",
       "      <th></th>\n",
       "    </tr>\n",
       "  </thead>\n",
       "  <tbody>\n",
       "    <tr>\n",
       "      <th>2021-07-14 00:00:00-04:00</th>\n",
       "      <td>115.59</td>\n",
       "      <td>115.76</td>\n",
       "      <td>115.569</td>\n",
       "      <td>115.75</td>\n",
       "      <td>3907266</td>\n",
       "      <td>437.39</td>\n",
       "      <td>437.92</td>\n",
       "      <td>434.91</td>\n",
       "      <td>436.22</td>\n",
       "      <td>54445950</td>\n",
       "    </tr>\n",
       "  </tbody>\n",
       "</table>\n",
       "</div>"
      ],
      "text/plain": [
       "                              AGG                                       SPY  \\\n",
       "                             open    high      low   close   volume    open   \n",
       "time                                                                          \n",
       "2021-07-14 00:00:00-04:00  115.59  115.76  115.569  115.75  3907266  437.39   \n",
       "\n",
       "                                                             \n",
       "                             high     low   close    volume  \n",
       "time                                                         \n",
       "2021-07-14 00:00:00-04:00  437.92  434.91  436.22  54445950  "
      ]
     },
     "execution_count": 16,
     "metadata": {},
     "output_type": "execute_result"
    }
   ],
   "source": [
    "# Use the Alpaca get_barset function to get current closing prices the portfolio\n",
    "# Be sure to set the `df` property after the function to format the response object as a DataFrame\n",
    "prices_df = alpaca.get_barset(tickers, timeframe=timeframe, start=start_date, end=end_date).df\n",
    "# Review the first 5 rows of the Alpaca DataFrame\n",
    "prices_df.head()"
   ]
  },
  {
   "cell_type": "markdown",
   "metadata": {},
   "source": [
    "#### Step 5: Navigating the Alpaca response DataFrame, select the `SPY` and `AGG` closing prices, and store them as variables."
   ]
  },
  {
   "cell_type": "code",
   "execution_count": 17,
   "metadata": {},
   "outputs": [
    {
     "name": "stdout",
     "output_type": "stream",
     "text": [
      "$115.75\n"
     ]
    }
   ],
   "source": [
    "# Access the closing price for AGG from the Alpaca DataFrame\n",
    "# Converting the value to a floating point number\n",
    "agg_close_price = float(prices_df['AGG']['close'])\n",
    "\n",
    "# Print the AGG closing price\n",
    "print(f'${agg_close_price:,.2f}')"
   ]
  },
  {
   "cell_type": "code",
   "execution_count": 18,
   "metadata": {},
   "outputs": [
    {
     "name": "stdout",
     "output_type": "stream",
     "text": [
      "$436.22\n"
     ]
    }
   ],
   "source": [
    "# Access the closing price for SPY from the Alpaca DataFrame\n",
    "# Converting the value to a floating point number\n",
    "spy_close_price = float(prices_df['SPY']['close'])\n",
    "\n",
    "# Print the SPY closing price\n",
    "print(f'${spy_close_price:,.2f}')\n"
   ]
  },
  {
   "cell_type": "markdown",
   "metadata": {},
   "source": [
    "#### Step 6: Calculate the value, in US dollars, of the current amount of shares in each of the stock and bond portions of the portfolio, and print the results."
   ]
  },
  {
   "cell_type": "code",
   "execution_count": 19,
   "metadata": {},
   "outputs": [
    {
     "name": "stdout",
     "output_type": "stream",
     "text": [
      "$23,150.00\n"
     ]
    }
   ],
   "source": [
    "# Calculate the current value of the bond portion of the portfolio\n",
    "agg_value = agg_close_price * agg_shares\n",
    "\n",
    "# Print the current value of the bond portfolio\n",
    "print(f'${agg_value:,.2f}')"
   ]
  },
  {
   "cell_type": "code",
   "execution_count": 20,
   "metadata": {},
   "outputs": [
    {
     "name": "stdout",
     "output_type": "stream",
     "text": [
      "$47,984.20\n"
     ]
    }
   ],
   "source": [
    "# Calculate the current value of the stock portion of the portfolio\n",
    "spy_value = spy_close_price * spy_shares\n",
    "\n",
    "# Print the current value of the stock portfolio\n",
    "print(f'${spy_value:,.2f}')\n"
   ]
  },
  {
   "cell_type": "code",
   "execution_count": 21,
   "metadata": {},
   "outputs": [
    {
     "name": "stdout",
     "output_type": "stream",
     "text": [
      "$71,134.20\n"
     ]
    }
   ],
   "source": [
    "# Calculate the total value of the stock and bond portion of the portfolio\n",
    "total_stocks_bonds = agg_value + spy_value\n",
    "\n",
    "# Print the current balance of the stock and bond portion of the portfolio\n",
    "print(f'${total_stocks_bonds:,.2f}')"
   ]
  },
  {
   "cell_type": "code",
   "execution_count": 22,
   "metadata": {},
   "outputs": [
    {
     "name": "stdout",
     "output_type": "stream",
     "text": [
      "$120,267.39\n"
     ]
    }
   ],
   "source": [
    "# Calculate the total value of the member's entire savings portfolio\n",
    "# Add the value of the cryptocurrency walled to the value of the total stocks and bonds\n",
    "total_portfolio = total_crypto_wallet + total_stocks_bonds\n",
    "\n",
    "# Print current cryptocurrency wallet balance\n",
    "print(f'${total_portfolio:,.2f}')\n"
   ]
  },
  {
   "cell_type": "markdown",
   "metadata": {},
   "source": [
    "### Evaluate the Emergency Fund\n",
    "\n",
    "In this section, you’ll use the valuations for the cryptocurrency wallet and for the stock and bond portions of the portfolio to determine if the credit union member has enough savings to build an emergency fund into their financial plan. To do this, complete the following steps:\n",
    "\n",
    "1. Create a Python list named `savings_data` that has two elements. The first element contains the total value of the cryptocurrency wallet. The second element contains the total value of the stock and bond portions of the portfolio.\n",
    "\n",
    "2. Use the `savings_data` list to create a Pandas DataFrame named `savings_df`, and then display this DataFrame. The function to create the DataFrame should take the following three parameters:\n",
    "\n",
    "    - `savings_data`: Use the list that you just created.\n",
    "\n",
    "    - `columns`: Set this parameter equal to a Python list with a single value called `amount`.\n",
    "\n",
    "    - `index`: Set this parameter equal to a Python list with the values of `crypto` and `stock/bond`.\n",
    "\n",
    "3. Use the `savings_df` DataFrame to plot a pie chart that visualizes the composition of the member’s portfolio. The y-axis of the pie chart uses `amount`. Be sure to add a title.\n",
    "\n",
    "4. Using Python, determine if the current portfolio has enough to create an emergency fund as part of the member’s financial plan. Ideally, an emergency fund should equal to three times the member’s monthly income. To do this, implement the following steps:\n",
    "\n",
    "    1. Create a variable named `emergency_fund_value`, and set it equal to three times the value of the member’s `monthly_income` of $12000. (You set this earlier in Part 1).\n",
    "\n",
    "    2. Create a series of three if statements to determine if the member’s total portfolio is large enough to fund the emergency portfolio:\n",
    "\n",
    "        1. If the total portfolio value is greater than the emergency fund value, display a message congratulating the member for having enough money in this fund.\n",
    "\n",
    "        2. Else if the total portfolio value is equal to the emergency fund value, display a message congratulating the member on reaching this important financial goal.\n",
    "\n",
    "        3. Else the total portfolio is less than the emergency fund value, so display a message showing how many dollars away the member is from reaching the goal. (Subtract the total portfolio value from the emergency fund value.)\n"
   ]
  },
  {
   "cell_type": "markdown",
   "metadata": {},
   "source": [
    "#### Step 1: Create a Python list named `savings_data` that has two elements. The first element contains the total value of the cryptocurrency wallet. The second element contains the total value of the stock and bond portions of the portfolio."
   ]
  },
  {
   "cell_type": "code",
   "execution_count": 23,
   "metadata": {},
   "outputs": [
    {
     "name": "stdout",
     "output_type": "stream",
     "text": [
      "[49133.189, 71134.20000000001]\n"
     ]
    }
   ],
   "source": [
    "# Consolidate financial assets data into a Python list\n",
    "savings_data = [total_crypto_wallet, total_stocks_bonds]\n",
    "# Review the Python list savings_data\n",
    "print(savings_data)    "
   ]
  },
  {
   "cell_type": "markdown",
   "metadata": {},
   "source": [
    "#### Step 2: Use the `savings_data` list to create a Pandas DataFrame named `savings_df`, and then display this DataFrame. The function to create the DataFrame should take the following three parameters:\n",
    "\n",
    "- `savings_data`: Use the list that you just created.\n",
    "\n",
    "- `columns`: Set this parameter equal to a Python list with a single value called `amount`.\n",
    "\n",
    "- `index`: Set this parameter equal to a Python list with the values of `crypto` and `stock/bond`.\n"
   ]
  },
  {
   "cell_type": "code",
   "execution_count": 24,
   "metadata": {},
   "outputs": [
    {
     "data": {
      "text/html": [
       "<div>\n",
       "<style scoped>\n",
       "    .dataframe tbody tr th:only-of-type {\n",
       "        vertical-align: middle;\n",
       "    }\n",
       "\n",
       "    .dataframe tbody tr th {\n",
       "        vertical-align: top;\n",
       "    }\n",
       "\n",
       "    .dataframe thead th {\n",
       "        text-align: right;\n",
       "    }\n",
       "</style>\n",
       "<table border=\"1\" class=\"dataframe\">\n",
       "  <thead>\n",
       "    <tr style=\"text-align: right;\">\n",
       "      <th></th>\n",
       "      <th>amount</th>\n",
       "    </tr>\n",
       "  </thead>\n",
       "  <tbody>\n",
       "    <tr>\n",
       "      <th>crypto</th>\n",
       "      <td>49133.189</td>\n",
       "    </tr>\n",
       "    <tr>\n",
       "      <th>stock/bond</th>\n",
       "      <td>71134.200</td>\n",
       "    </tr>\n",
       "  </tbody>\n",
       "</table>\n",
       "</div>"
      ],
      "text/plain": [
       "               amount\n",
       "crypto      49133.189\n",
       "stock/bond  71134.200"
      ]
     },
     "execution_count": 24,
     "metadata": {},
     "output_type": "execute_result"
    }
   ],
   "source": [
    "# Create a Pandas DataFrame called savings_df \n",
    "index = ['crypto', 'stock/bond']\n",
    "savings_df = pd.DataFrame(data=savings_data, columns=['amount'], index=index)\n",
    "# Display the savings_df DataFrame\n",
    "savings_df"
   ]
  },
  {
   "cell_type": "markdown",
   "metadata": {},
   "source": [
    "#### Step 3: Use the `savings_df` DataFrame to plot a pie chart that visualizes the composition of the member’s portfolio. The y-axis of the pie chart uses `amount`. Be sure to add a title."
   ]
  },
  {
   "cell_type": "code",
   "execution_count": 25,
   "metadata": {},
   "outputs": [
    {
     "data": {
      "text/plain": [
       "<AxesSubplot:title={'center':'Total Value of Savings Portfolio'}, ylabel='amount'>"
      ]
     },
     "execution_count": 25,
     "metadata": {},
     "output_type": "execute_result"
    },
    {
     "data": {
      "image/png": "[encoded data removed]",
      "text/plain": [
       "<Figure size 1008x504 with 1 Axes>"
      ]
     },
     "metadata": {},
     "output_type": "display_data"
    }
   ],
   "source": [
    "# Plot the total value of the member's portfolio (crypto and stock/bond) in a pie chart\n",
    "savings_df.plot(kind='pie', y='amount', title='Total Value of Savings Portfolio', figsize=(14,7))"
   ]
  },
  {
   "cell_type": "markdown",
   "metadata": {},
   "source": [
    "#### Step 4: Using Python, determine if the current portfolio has enough to create an emergency fund as part of the member’s financial plan. Ideally, an emergency fund should equal to three times the member’s monthly income. To do this, implement the following steps:\n",
    "\n",
    "Step 1. Create a variable named `emergency_fund_value`, and set it equal to three times the value of the member’s `monthly_income` of 12000. (You set this earlier in Part 1).\n",
    "\n",
    "Step 2. Create a series of three if statements to determine if the member’s total portfolio is large enough to fund the emergency portfolio:\n",
    "\n",
    "* If the total portfolio value is greater than the emergency fund value, display a message congratulating the member for having enough money in this fund.\n",
    "\n",
    "* Else if the total portfolio value is equal to the emergency fund value, display a message congratulating the member on reaching this important financial goal.\n",
    "\n",
    "* Else the total portfolio is less than the emergency fund value, so display a message showing how many dollars away the member is from reaching the goal. (Subtract the total portfolio value from the emergency fund value.)\n"
   ]
  },
  {
   "cell_type": "markdown",
   "metadata": {},
   "source": [
    "##### Step 4-1: Create a variable named `emergency_fund_value`, and set it equal to three times the value of the member’s `monthly_income` of 12000. (You set this earlier in Part 1)."
   ]
  },
  {
   "cell_type": "code",
   "execution_count": 26,
   "metadata": {},
   "outputs": [],
   "source": [
    "# Create a variable named emergency_fund_value\n",
    "emergency_fund_value = 3 * monthly_income"
   ]
  },
  {
   "cell_type": "markdown",
   "metadata": {},
   "source": [
    "##### Step 4-2: Create a series of three if statements to determine if the member’s total portfolio is large enough to fund the emergency portfolio:\n",
    "\n",
    "* If the total portfolio value is greater than the emergency fund value, display a message congratulating the member for having enough money in this fund.\n",
    "\n",
    "* Else if the total portfolio value is equal to the emergency fund value, display a message congratulating the member on reaching this important financial goal.\n",
    "\n",
    "* Else the total portfolio is less than the emergency fund value, so display a message showing how many dollars away the member is from reaching the goal. (Subtract the total portfolio value from the emergency fund value.)"
   ]
  },
  {
   "cell_type": "code",
   "execution_count": 27,
   "metadata": {},
   "outputs": [
    {
     "name": "stdout",
     "output_type": "stream",
     "text": [
      "Congratulations! You have enough in your total portfolio to create an emergency fund.\n"
     ]
    }
   ],
   "source": [
    "# Evaluate the possibility of creating an emergency fund with 3 conditions:\n",
    "if total_portfolio > emergency_fund_value:\n",
    "    print(\"Congratulations! You have enough in your total portfolio to create an emergency fund.\")\n",
    "elif total_portfolio == emergency_fund_value:\n",
    "    print(\"Congratulations on reaching this important financial goal! You have enough in your total portfolio to create an emergency fund.\")\n",
    "else:\n",
    "    print(f\"Oh, no! You need ${emergency_fund_value - total_portfolio:,.2f} more in your total portfolio to create an emergency fund.\")"
   ]
  },
  {
   "cell_type": "markdown",
   "metadata": {},
   "source": [
    "## Part 2: Create a Financial Planner for Retirement"
   ]
  },
  {
   "cell_type": "markdown",
   "metadata": {},
   "source": [
    "### Create the Monte Carlo Simulation\n",
    "\n",
    "In this section, you’ll use the MCForecastTools library to create a Monte Carlo simulation for the member’s savings portfolio. To do this, complete the following steps:\n",
    "\n",
    "1. Make an API call via the Alpaca SDK to get 10 years of historical closing prices for a traditional 60/40 portfolio split: 60% stocks (SPY) and 40% bonds (AGG).\n",
    "\n",
    "2. Run a Monte Carlo simulation of 500 samples and 30 years for the 60/40 portfolio, and then plot the results.The following image shows the overlay line plot resulting from a simulation with these characteristics. However, because a random number generator is used to run each live Monte Carlo simulation, your image will differ slightly from this exact image:\n",
    "\n",
    "![A screenshot depicts the resulting plot.](Images/5-4-monte-carlo-line-plot.png)\n",
    "\n",
    "3. Plot the probability distribution of the Monte Carlo simulation. Plot the probability distribution of the Monte Carlo simulation. The following image shows the histogram plot resulting from a simulation with these characteristics. However, because a random number generator is used to run each live Monte Carlo simulation, your image will differ slightly from this exact image:\n",
    "\n",
    "![A screenshot depicts the histogram plot.](Images/5-4-monte-carlo-histogram.png)\n",
    "\n",
    "4. Generate the summary statistics for the Monte Carlo simulation.\n",
    "\n"
   ]
  },
  {
   "cell_type": "markdown",
   "metadata": {},
   "source": [
    "#### Step 1: Make an API call via the Alpaca SDK to get 10 years of historical closing prices for a traditional 60/40 portfolio split: 60% stocks (SPY) and 40% bonds (AGG)."
   ]
  },
  {
   "cell_type": "code",
   "execution_count": 66,
   "metadata": {
    "tags": []
   },
   "outputs": [
    {
     "data": {
      "text/html": [
       "<div>\n",
       "<style scoped>\n",
       "    .dataframe tbody tr th:only-of-type {\n",
       "        vertical-align: middle;\n",
       "    }\n",
       "\n",
       "    .dataframe tbody tr th {\n",
       "        vertical-align: top;\n",
       "    }\n",
       "\n",
       "    .dataframe thead tr th {\n",
       "        text-align: left;\n",
       "    }\n",
       "\n",
       "    .dataframe thead tr:last-of-type th {\n",
       "        text-align: right;\n",
       "    }\n",
       "</style>\n",
       "<table border=\"1\" class=\"dataframe\">\n",
       "  <thead>\n",
       "    <tr>\n",
       "      <th></th>\n",
       "      <th colspan=\"5\" halign=\"left\">AGG</th>\n",
       "      <th colspan=\"5\" halign=\"left\">SPY</th>\n",
       "    </tr>\n",
       "    <tr>\n",
       "      <th></th>\n",
       "      <th>open</th>\n",
       "      <th>high</th>\n",
       "      <th>low</th>\n",
       "      <th>close</th>\n",
       "      <th>volume</th>\n",
       "      <th>open</th>\n",
       "      <th>high</th>\n",
       "      <th>low</th>\n",
       "      <th>close</th>\n",
       "      <th>volume</th>\n",
       "    </tr>\n",
       "    <tr>\n",
       "      <th>time</th>\n",
       "      <th></th>\n",
       "      <th></th>\n",
       "      <th></th>\n",
       "      <th></th>\n",
       "      <th></th>\n",
       "      <th></th>\n",
       "      <th></th>\n",
       "      <th></th>\n",
       "      <th></th>\n",
       "      <th></th>\n",
       "    </tr>\n",
       "  </thead>\n",
       "  <tbody>\n",
       "    <tr>\n",
       "      <th>2011-07-18 00:00:00-04:00</th>\n",
       "      <td>107.57</td>\n",
       "      <td>107.650</td>\n",
       "      <td>107.3800</td>\n",
       "      <td>107.39</td>\n",
       "      <td>547154.0</td>\n",
       "      <td>131.08</td>\n",
       "      <td>131.28</td>\n",
       "      <td>129.63</td>\n",
       "      <td>130.60</td>\n",
       "      <td>151443971.0</td>\n",
       "    </tr>\n",
       "    <tr>\n",
       "      <th>2011-07-19 00:00:00-04:00</th>\n",
       "      <td>107.37</td>\n",
       "      <td>107.630</td>\n",
       "      <td>107.3300</td>\n",
       "      <td>107.63</td>\n",
       "      <td>750749.0</td>\n",
       "      <td>131.35</td>\n",
       "      <td>132.89</td>\n",
       "      <td>131.31</td>\n",
       "      <td>132.72</td>\n",
       "      <td>141680774.0</td>\n",
       "    </tr>\n",
       "    <tr>\n",
       "      <th>2011-07-20 00:00:00-04:00</th>\n",
       "      <td>107.55</td>\n",
       "      <td>107.800</td>\n",
       "      <td>107.4700</td>\n",
       "      <td>107.49</td>\n",
       "      <td>589040.0</td>\n",
       "      <td>133.07</td>\n",
       "      <td>133.15</td>\n",
       "      <td>132.42</td>\n",
       "      <td>132.65</td>\n",
       "      <td>109609333.0</td>\n",
       "    </tr>\n",
       "    <tr>\n",
       "      <th>2011-07-21 00:00:00-04:00</th>\n",
       "      <td>107.36</td>\n",
       "      <td>107.470</td>\n",
       "      <td>107.1700</td>\n",
       "      <td>107.33</td>\n",
       "      <td>792786.0</td>\n",
       "      <td>133.40</td>\n",
       "      <td>134.82</td>\n",
       "      <td>133.14</td>\n",
       "      <td>134.49</td>\n",
       "      <td>193662072.0</td>\n",
       "    </tr>\n",
       "    <tr>\n",
       "      <th>2011-07-22 00:00:00-04:00</th>\n",
       "      <td>107.41</td>\n",
       "      <td>107.570</td>\n",
       "      <td>107.3900</td>\n",
       "      <td>107.55</td>\n",
       "      <td>443571.0</td>\n",
       "      <td>134.52</td>\n",
       "      <td>134.72</td>\n",
       "      <td>133.76</td>\n",
       "      <td>134.58</td>\n",
       "      <td>97845927.0</td>\n",
       "    </tr>\n",
       "    <tr>\n",
       "      <th>...</th>\n",
       "      <td>...</td>\n",
       "      <td>...</td>\n",
       "      <td>...</td>\n",
       "      <td>...</td>\n",
       "      <td>...</td>\n",
       "      <td>...</td>\n",
       "      <td>...</td>\n",
       "      <td>...</td>\n",
       "      <td>...</td>\n",
       "      <td>...</td>\n",
       "    </tr>\n",
       "    <tr>\n",
       "      <th>2021-07-12 00:00:00-04:00</th>\n",
       "      <td>115.80</td>\n",
       "      <td>115.805</td>\n",
       "      <td>115.6000</td>\n",
       "      <td>115.63</td>\n",
       "      <td>3184908.0</td>\n",
       "      <td>435.42</td>\n",
       "      <td>437.35</td>\n",
       "      <td>434.97</td>\n",
       "      <td>437.08</td>\n",
       "      <td>42031814.0</td>\n",
       "    </tr>\n",
       "    <tr>\n",
       "      <th>2021-07-13 00:00:00-04:00</th>\n",
       "      <td>115.65</td>\n",
       "      <td>115.760</td>\n",
       "      <td>115.3022</td>\n",
       "      <td>115.39</td>\n",
       "      <td>4698374.0</td>\n",
       "      <td>436.26</td>\n",
       "      <td>437.84</td>\n",
       "      <td>435.31</td>\n",
       "      <td>435.62</td>\n",
       "      <td>45923305.0</td>\n",
       "    </tr>\n",
       "    <tr>\n",
       "      <th>2021-07-14 00:00:00-04:00</th>\n",
       "      <td>115.59</td>\n",
       "      <td>115.760</td>\n",
       "      <td>115.5690</td>\n",
       "      <td>115.75</td>\n",
       "      <td>3907266.0</td>\n",
       "      <td>437.39</td>\n",
       "      <td>437.92</td>\n",
       "      <td>434.91</td>\n",
       "      <td>436.22</td>\n",
       "      <td>54445950.0</td>\n",
       "    </tr>\n",
       "    <tr>\n",
       "      <th>2021-07-15 00:00:00-04:00</th>\n",
       "      <td>115.94</td>\n",
       "      <td>116.020</td>\n",
       "      <td>115.7222</td>\n",
       "      <td>115.99</td>\n",
       "      <td>3675913.0</td>\n",
       "      <td>434.81</td>\n",
       "      <td>435.53</td>\n",
       "      <td>432.72</td>\n",
       "      <td>434.73</td>\n",
       "      <td>50376465.0</td>\n",
       "    </tr>\n",
       "    <tr>\n",
       "      <th>2021-07-16 00:00:00-04:00</th>\n",
       "      <td>115.77</td>\n",
       "      <td>115.960</td>\n",
       "      <td>115.7600</td>\n",
       "      <td>115.90</td>\n",
       "      <td>3679747.0</td>\n",
       "      <td>436.00</td>\n",
       "      <td>436.06</td>\n",
       "      <td>430.92</td>\n",
       "      <td>431.38</td>\n",
       "      <td>66637403.0</td>\n",
       "    </tr>\n",
       "  </tbody>\n",
       "</table>\n",
       "<p>2517 rows × 10 columns</p>\n",
       "</div>"
      ],
      "text/plain": [
       "                              AGG                                        \\\n",
       "                             open     high       low   close     volume   \n",
       "time                                                                      \n",
       "2011-07-18 00:00:00-04:00  107.57  107.650  107.3800  107.39   547154.0   \n",
       "2011-07-19 00:00:00-04:00  107.37  107.630  107.3300  107.63   750749.0   \n",
       "2011-07-20 00:00:00-04:00  107.55  107.800  107.4700  107.49   589040.0   \n",
       "2011-07-21 00:00:00-04:00  107.36  107.470  107.1700  107.33   792786.0   \n",
       "2011-07-22 00:00:00-04:00  107.41  107.570  107.3900  107.55   443571.0   \n",
       "...                           ...      ...       ...     ...        ...   \n",
       "2021-07-12 00:00:00-04:00  115.80  115.805  115.6000  115.63  3184908.0   \n",
       "2021-07-13 00:00:00-04:00  115.65  115.760  115.3022  115.39  4698374.0   \n",
       "2021-07-14 00:00:00-04:00  115.59  115.760  115.5690  115.75  3907266.0   \n",
       "2021-07-15 00:00:00-04:00  115.94  116.020  115.7222  115.99  3675913.0   \n",
       "2021-07-16 00:00:00-04:00  115.77  115.960  115.7600  115.90  3679747.0   \n",
       "\n",
       "                              SPY                                       \n",
       "                             open    high     low   close       volume  \n",
       "time                                                                    \n",
       "2011-07-18 00:00:00-04:00  131.08  131.28  129.63  130.60  151443971.0  \n",
       "2011-07-19 00:00:00-04:00  131.35  132.89  131.31  132.72  141680774.0  \n",
       "2011-07-20 00:00:00-04:00  133.07  133.15  132.42  132.65  109609333.0  \n",
       "2011-07-21 00:00:00-04:00  133.40  134.82  133.14  134.49  193662072.0  \n",
       "2011-07-22 00:00:00-04:00  134.52  134.72  133.76  134.58   97845927.0  \n",
       "...                           ...     ...     ...     ...          ...  \n",
       "2021-07-12 00:00:00-04:00  435.42  437.35  434.97  437.08   42031814.0  \n",
       "2021-07-13 00:00:00-04:00  436.26  437.84  435.31  435.62   45923305.0  \n",
       "2021-07-14 00:00:00-04:00  437.39  437.92  434.91  436.22   54445950.0  \n",
       "2021-07-15 00:00:00-04:00  434.81  435.53  432.72  434.73   50376465.0  \n",
       "2021-07-16 00:00:00-04:00  436.00  436.06  430.92  431.38   66637403.0  \n",
       "\n",
       "[2517 rows x 10 columns]"
      ]
     },
     "metadata": {},
     "output_type": "display_data"
    }
   ],
   "source": [
    "# Set start and end dates of 10 years back from your current date\n",
    "end_date = pd.Timestamp.today(tz='America/New_York')\n",
    "start_date = (end_date - dt.timedelta(days=3653))\n",
    "\n",
    "# Use the Alpaca get_barset function to make the API call to get the 10 years worth of pricing data\n",
    "# The tickers and timeframe parameters have been set in Part 1 of this activity \n",
    "days_per_request = 1000\n",
    "prices_10y_df = alpaca.get_barset(\n",
    "    symbols=tickers\n",
    "    , timeframe=timeframe\n",
    "    , limit=days_per_request\n",
    "    , end=end_date.isoformat()\n",
    ").df.sort_index(ascending=False)\n",
    "\n",
    "# While oldest date is greater than the start date, continue pulling data\n",
    "while(prices_10y_df.iloc[-1].name > start_date):\n",
    "    last_date_in_range = prices_10y_df.iloc[-1].name\n",
    "    day_before_last = last_date_in_range - dt.timedelta(days=1)\n",
    "\n",
    "    prices = alpaca.get_barset(\n",
    "        symbols=tickers\n",
    "        , timeframe=timeframe\n",
    "        , limit=days_per_request\n",
    "        , end=day_before_last.isoformat()\n",
    "    ).df.sort_index(ascending=False)\n",
    "    prices_10y_df = prices_10y_df.append(prices)\n",
    "else:\n",
    "    # Display both the first and last five rows of the DataFrame\n",
    "    prices_10y_df = prices_10y_df.loc[end_date:start_date].sort_index(ascending=True)\n",
    "    display(prices_10y_df)"
   ]
  },
  {
   "cell_type": "markdown",
   "metadata": {},
   "source": [
    "#### Step 2: Run a Monte Carlo simulation of 500 samples and 30 years for the 60/40 portfolio, and then plot the results."
   ]
  },
  {
   "cell_type": "code",
   "execution_count": 70,
   "metadata": {},
   "outputs": [
    {
     "data": {
      "text/html": [
       "<div>\n",
       "<style scoped>\n",
       "    .dataframe tbody tr th:only-of-type {\n",
       "        vertical-align: middle;\n",
       "    }\n",
       "\n",
       "    .dataframe tbody tr th {\n",
       "        vertical-align: top;\n",
       "    }\n",
       "\n",
       "    .dataframe thead tr th {\n",
       "        text-align: left;\n",
       "    }\n",
       "\n",
       "    .dataframe thead tr:last-of-type th {\n",
       "        text-align: right;\n",
       "    }\n",
       "</style>\n",
       "<table border=\"1\" class=\"dataframe\">\n",
       "  <thead>\n",
       "    <tr>\n",
       "      <th></th>\n",
       "      <th colspan=\"6\" halign=\"left\">AGG</th>\n",
       "      <th colspan=\"6\" halign=\"left\">SPY</th>\n",
       "    </tr>\n",
       "    <tr>\n",
       "      <th></th>\n",
       "      <th>open</th>\n",
       "      <th>high</th>\n",
       "      <th>low</th>\n",
       "      <th>close</th>\n",
       "      <th>volume</th>\n",
       "      <th>daily_return</th>\n",
       "      <th>open</th>\n",
       "      <th>high</th>\n",
       "      <th>low</th>\n",
       "      <th>close</th>\n",
       "      <th>volume</th>\n",
       "      <th>daily_return</th>\n",
       "    </tr>\n",
       "    <tr>\n",
       "      <th>time</th>\n",
       "      <th></th>\n",
       "      <th></th>\n",
       "      <th></th>\n",
       "      <th></th>\n",
       "      <th></th>\n",
       "      <th></th>\n",
       "      <th></th>\n",
       "      <th></th>\n",
       "      <th></th>\n",
       "      <th></th>\n",
       "      <th></th>\n",
       "      <th></th>\n",
       "    </tr>\n",
       "  </thead>\n",
       "  <tbody>\n",
       "    <tr>\n",
       "      <th>2021-07-16 00:00:00-04:00</th>\n",
       "      <td>115.77</td>\n",
       "      <td>115.960</td>\n",
       "      <td>115.7600</td>\n",
       "      <td>115.90</td>\n",
       "      <td>3679747.0</td>\n",
       "      <td>NaN</td>\n",
       "      <td>436.00</td>\n",
       "      <td>436.06</td>\n",
       "      <td>430.920</td>\n",
       "      <td>431.38</td>\n",
       "      <td>66637403.0</td>\n",
       "      <td>NaN</td>\n",
       "    </tr>\n",
       "    <tr>\n",
       "      <th>2021-07-15 00:00:00-04:00</th>\n",
       "      <td>115.94</td>\n",
       "      <td>116.020</td>\n",
       "      <td>115.7222</td>\n",
       "      <td>115.99</td>\n",
       "      <td>3675913.0</td>\n",
       "      <td>0.000777</td>\n",
       "      <td>434.81</td>\n",
       "      <td>435.53</td>\n",
       "      <td>432.720</td>\n",
       "      <td>434.73</td>\n",
       "      <td>50376465.0</td>\n",
       "      <td>0.007766</td>\n",
       "    </tr>\n",
       "    <tr>\n",
       "      <th>2021-07-14 00:00:00-04:00</th>\n",
       "      <td>115.59</td>\n",
       "      <td>115.760</td>\n",
       "      <td>115.5690</td>\n",
       "      <td>115.75</td>\n",
       "      <td>3907266.0</td>\n",
       "      <td>-0.002069</td>\n",
       "      <td>437.39</td>\n",
       "      <td>437.92</td>\n",
       "      <td>434.910</td>\n",
       "      <td>436.22</td>\n",
       "      <td>54445950.0</td>\n",
       "      <td>0.003427</td>\n",
       "    </tr>\n",
       "    <tr>\n",
       "      <th>2021-07-13 00:00:00-04:00</th>\n",
       "      <td>115.65</td>\n",
       "      <td>115.760</td>\n",
       "      <td>115.3022</td>\n",
       "      <td>115.39</td>\n",
       "      <td>4698374.0</td>\n",
       "      <td>-0.003110</td>\n",
       "      <td>436.26</td>\n",
       "      <td>437.84</td>\n",
       "      <td>435.310</td>\n",
       "      <td>435.62</td>\n",
       "      <td>45923305.0</td>\n",
       "      <td>-0.001375</td>\n",
       "    </tr>\n",
       "    <tr>\n",
       "      <th>2021-07-12 00:00:00-04:00</th>\n",
       "      <td>115.80</td>\n",
       "      <td>115.805</td>\n",
       "      <td>115.6000</td>\n",
       "      <td>115.63</td>\n",
       "      <td>3184908.0</td>\n",
       "      <td>0.002080</td>\n",
       "      <td>435.42</td>\n",
       "      <td>437.35</td>\n",
       "      <td>434.970</td>\n",
       "      <td>437.08</td>\n",
       "      <td>42031814.0</td>\n",
       "      <td>0.003352</td>\n",
       "    </tr>\n",
       "    <tr>\n",
       "      <th>...</th>\n",
       "      <td>...</td>\n",
       "      <td>...</td>\n",
       "      <td>...</td>\n",
       "      <td>...</td>\n",
       "      <td>...</td>\n",
       "      <td>...</td>\n",
       "      <td>...</td>\n",
       "      <td>...</td>\n",
       "      <td>...</td>\n",
       "      <td>...</td>\n",
       "      <td>...</td>\n",
       "      <td>...</td>\n",
       "    </tr>\n",
       "    <tr>\n",
       "      <th>2009-08-20 00:00:00-04:00</th>\n",
       "      <td>103.52</td>\n",
       "      <td>103.610</td>\n",
       "      <td>100.2200</td>\n",
       "      <td>103.60</td>\n",
       "      <td>579612.0</td>\n",
       "      <td>0.005220</td>\n",
       "      <td>100.09</td>\n",
       "      <td>101.22</td>\n",
       "      <td>99.870</td>\n",
       "      <td>101.02</td>\n",
       "      <td>146076650.0</td>\n",
       "      <td>-0.018461</td>\n",
       "    </tr>\n",
       "    <tr>\n",
       "      <th>2009-08-19 00:00:00-04:00</th>\n",
       "      <td>103.33</td>\n",
       "      <td>103.600</td>\n",
       "      <td>103.2132</td>\n",
       "      <td>103.45</td>\n",
       "      <td>470053.0</td>\n",
       "      <td>-0.001448</td>\n",
       "      <td>98.31</td>\n",
       "      <td>100.30</td>\n",
       "      <td>98.250</td>\n",
       "      <td>100.00</td>\n",
       "      <td>166773386.0</td>\n",
       "      <td>-0.010097</td>\n",
       "    </tr>\n",
       "    <tr>\n",
       "      <th>2009-08-18 00:00:00-04:00</th>\n",
       "      <td>103.42</td>\n",
       "      <td>103.550</td>\n",
       "      <td>103.2300</td>\n",
       "      <td>103.37</td>\n",
       "      <td>429725.0</td>\n",
       "      <td>-0.000773</td>\n",
       "      <td>98.55</td>\n",
       "      <td>99.44</td>\n",
       "      <td>98.350</td>\n",
       "      <td>99.19</td>\n",
       "      <td>149145119.0</td>\n",
       "      <td>-0.008100</td>\n",
       "    </tr>\n",
       "    <tr>\n",
       "      <th>2009-08-17 00:00:00-04:00</th>\n",
       "      <td>103.33</td>\n",
       "      <td>103.590</td>\n",
       "      <td>103.0400</td>\n",
       "      <td>103.58</td>\n",
       "      <td>604163.0</td>\n",
       "      <td>0.002032</td>\n",
       "      <td>98.86</td>\n",
       "      <td>98.95</td>\n",
       "      <td>98.115</td>\n",
       "      <td>98.23</td>\n",
       "      <td>188144856.0</td>\n",
       "      <td>-0.009678</td>\n",
       "    </tr>\n",
       "    <tr>\n",
       "      <th>2009-08-14 00:00:00-04:00</th>\n",
       "      <td>103.17</td>\n",
       "      <td>103.440</td>\n",
       "      <td>103.0200</td>\n",
       "      <td>103.20</td>\n",
       "      <td>427085.0</td>\n",
       "      <td>-0.003669</td>\n",
       "      <td>101.52</td>\n",
       "      <td>101.60</td>\n",
       "      <td>99.700</td>\n",
       "      <td>100.73</td>\n",
       "      <td>164116033.0</td>\n",
       "      <td>0.025450</td>\n",
       "    </tr>\n",
       "  </tbody>\n",
       "</table>\n",
       "<p>3001 rows × 12 columns</p>\n",
       "</div>"
      ],
      "text/plain": [
       "                              AGG                                        \\\n",
       "                             open     high       low   close     volume   \n",
       "time                                                                      \n",
       "2021-07-16 00:00:00-04:00  115.77  115.960  115.7600  115.90  3679747.0   \n",
       "2021-07-15 00:00:00-04:00  115.94  116.020  115.7222  115.99  3675913.0   \n",
       "2021-07-14 00:00:00-04:00  115.59  115.760  115.5690  115.75  3907266.0   \n",
       "2021-07-13 00:00:00-04:00  115.65  115.760  115.3022  115.39  4698374.0   \n",
       "2021-07-12 00:00:00-04:00  115.80  115.805  115.6000  115.63  3184908.0   \n",
       "...                           ...      ...       ...     ...        ...   \n",
       "2009-08-20 00:00:00-04:00  103.52  103.610  100.2200  103.60   579612.0   \n",
       "2009-08-19 00:00:00-04:00  103.33  103.600  103.2132  103.45   470053.0   \n",
       "2009-08-18 00:00:00-04:00  103.42  103.550  103.2300  103.37   429725.0   \n",
       "2009-08-17 00:00:00-04:00  103.33  103.590  103.0400  103.58   604163.0   \n",
       "2009-08-14 00:00:00-04:00  103.17  103.440  103.0200  103.20   427085.0   \n",
       "\n",
       "                                           SPY                           \\\n",
       "                          daily_return    open    high      low   close   \n",
       "time                                                                      \n",
       "2021-07-16 00:00:00-04:00          NaN  436.00  436.06  430.920  431.38   \n",
       "2021-07-15 00:00:00-04:00     0.000777  434.81  435.53  432.720  434.73   \n",
       "2021-07-14 00:00:00-04:00    -0.002069  437.39  437.92  434.910  436.22   \n",
       "2021-07-13 00:00:00-04:00    -0.003110  436.26  437.84  435.310  435.62   \n",
       "2021-07-12 00:00:00-04:00     0.002080  435.42  437.35  434.970  437.08   \n",
       "...                                ...     ...     ...      ...     ...   \n",
       "2009-08-20 00:00:00-04:00     0.005220  100.09  101.22   99.870  101.02   \n",
       "2009-08-19 00:00:00-04:00    -0.001448   98.31  100.30   98.250  100.00   \n",
       "2009-08-18 00:00:00-04:00    -0.000773   98.55   99.44   98.350   99.19   \n",
       "2009-08-17 00:00:00-04:00     0.002032   98.86   98.95   98.115   98.23   \n",
       "2009-08-14 00:00:00-04:00    -0.003669  101.52  101.60   99.700  100.73   \n",
       "\n",
       "                                                     \n",
       "                                volume daily_return  \n",
       "time                                                 \n",
       "2021-07-16 00:00:00-04:00   66637403.0          NaN  \n",
       "2021-07-15 00:00:00-04:00   50376465.0     0.007766  \n",
       "2021-07-14 00:00:00-04:00   54445950.0     0.003427  \n",
       "2021-07-13 00:00:00-04:00   45923305.0    -0.001375  \n",
       "2021-07-12 00:00:00-04:00   42031814.0     0.003352  \n",
       "...                                ...          ...  \n",
       "2009-08-20 00:00:00-04:00  146076650.0    -0.018461  \n",
       "2009-08-19 00:00:00-04:00  166773386.0    -0.010097  \n",
       "2009-08-18 00:00:00-04:00  149145119.0    -0.008100  \n",
       "2009-08-17 00:00:00-04:00  188144856.0    -0.009678  \n",
       "2009-08-14 00:00:00-04:00  164116033.0     0.025450  \n",
       "\n",
       "[3001 rows x 12 columns]"
      ]
     },
     "metadata": {},
     "output_type": "display_data"
    }
   ],
   "source": [
    "# Configure the Monte Carlo simulation to forecast 30 years cumulative returns\n",
    "forecast_days = 30 * 252\n",
    "# The weights should be split 40% to AGG and 60% to SPY.\n",
    "# Weights list: ['AGG', 'SPY']\n",
    "weights_list = [.4, .6]\n",
    "# Run 500 samples.\n",
    "num_samples = 500\n",
    "# Create Monte Carlo Simulation Instance\n",
    "mcs_AGG_40_SPY_60 = MCSimulation(\n",
    "    prices_10y_df,\n",
    "    weights=weights_list,\n",
    "    num_simulation=num_samples,\n",
    "    num_trading_days=forecast_days,\n",
    ")\n",
    "# Review the simulation input data\n",
    "display(mcs_AGG_40_SPY_60.portfolio_data)"
   ]
  },
  {
   "cell_type": "code",
   "execution_count": 71,
   "metadata": {},
   "outputs": [
    {
     "name": "stdout",
     "output_type": "stream",
     "text": [
      "Running Monte Carlo simulation number 0.\n",
      "Running Monte Carlo simulation number 10.\n",
      "Running Monte Carlo simulation number 20.\n",
      "Running Monte Carlo simulation number 30.\n",
      "Running Monte Carlo simulation number 40.\n",
      "Running Monte Carlo simulation number 50.\n",
      "Running Monte Carlo simulation number 60.\n",
      "Running Monte Carlo simulation number 70.\n",
      "Running Monte Carlo simulation number 80.\n",
      "Running Monte Carlo simulation number 90.\n",
      "Running Monte Carlo simulation number 100.\n",
      "Running Monte Carlo simulation number 110.\n",
      "Running Monte Carlo simulation number 120.\n",
      "Running Monte Carlo simulation number 130.\n",
      "Running Monte Carlo simulation number 140.\n",
      "Running Monte Carlo simulation number 150.\n",
      "Running Monte Carlo simulation number 160.\n",
      "Running Monte Carlo simulation number 170.\n",
      "Running Monte Carlo simulation number 180.\n",
      "Running Monte Carlo simulation number 190.\n",
      "Running Monte Carlo simulation number 200.\n",
      "Running Monte Carlo simulation number 210.\n",
      "Running Monte Carlo simulation number 220.\n",
      "Running Monte Carlo simulation number 230.\n",
      "Running Monte Carlo simulation number 240.\n",
      "Running Monte Carlo simulation number 250.\n",
      "Running Monte Carlo simulation number 260.\n",
      "Running Monte Carlo simulation number 270.\n",
      "Running Monte Carlo simulation number 280.\n",
      "Running Monte Carlo simulation number 290.\n",
      "Running Monte Carlo simulation number 300.\n",
      "Running Monte Carlo simulation number 310.\n",
      "Running Monte Carlo simulation number 320.\n",
      "Running Monte Carlo simulation number 330.\n",
      "Running Monte Carlo simulation number 340.\n",
      "Running Monte Carlo simulation number 350.\n",
      "Running Monte Carlo simulation number 360.\n",
      "Running Monte Carlo simulation number 370.\n",
      "Running Monte Carlo simulation number 380.\n",
      "Running Monte Carlo simulation number 390.\n",
      "Running Monte Carlo simulation number 400.\n",
      "Running Monte Carlo simulation number 410.\n",
      "Running Monte Carlo simulation number 420.\n",
      "Running Monte Carlo simulation number 430.\n",
      "Running Monte Carlo simulation number 440.\n",
      "Running Monte Carlo simulation number 450.\n",
      "Running Monte Carlo simulation number 460.\n",
      "Running Monte Carlo simulation number 470.\n",
      "Running Monte Carlo simulation number 480.\n",
      "Running Monte Carlo simulation number 490.\n"
     ]
    },
    {
     "data": {
      "text/html": [
       "<div>\n",
       "<style scoped>\n",
       "    .dataframe tbody tr th:only-of-type {\n",
       "        vertical-align: middle;\n",
       "    }\n",
       "\n",
       "    .dataframe tbody tr th {\n",
       "        vertical-align: top;\n",
       "    }\n",
       "\n",
       "    .dataframe thead th {\n",
       "        text-align: right;\n",
       "    }\n",
       "</style>\n",
       "<table border=\"1\" class=\"dataframe\">\n",
       "  <thead>\n",
       "    <tr style=\"text-align: right;\">\n",
       "      <th></th>\n",
       "      <th>0</th>\n",
       "      <th>1</th>\n",
       "      <th>2</th>\n",
       "      <th>3</th>\n",
       "      <th>4</th>\n",
       "      <th>5</th>\n",
       "      <th>6</th>\n",
       "      <th>7</th>\n",
       "      <th>8</th>\n",
       "      <th>9</th>\n",
       "      <th>...</th>\n",
       "      <th>490</th>\n",
       "      <th>491</th>\n",
       "      <th>492</th>\n",
       "      <th>493</th>\n",
       "      <th>494</th>\n",
       "      <th>495</th>\n",
       "      <th>496</th>\n",
       "      <th>497</th>\n",
       "      <th>498</th>\n",
       "      <th>499</th>\n",
       "    </tr>\n",
       "  </thead>\n",
       "  <tbody>\n",
       "    <tr>\n",
       "      <th>0</th>\n",
       "      <td>1.000000</td>\n",
       "      <td>1.000000</td>\n",
       "      <td>1.000000</td>\n",
       "      <td>1.000000</td>\n",
       "      <td>1.000000</td>\n",
       "      <td>1.000000</td>\n",
       "      <td>1.000000</td>\n",
       "      <td>1.000000</td>\n",
       "      <td>1.000000</td>\n",
       "      <td>1.000000</td>\n",
       "      <td>...</td>\n",
       "      <td>1.000000</td>\n",
       "      <td>1.000000</td>\n",
       "      <td>1.000000</td>\n",
       "      <td>1.000000</td>\n",
       "      <td>1.000000</td>\n",
       "      <td>1.000000</td>\n",
       "      <td>1.000000</td>\n",
       "      <td>1.000000</td>\n",
       "      <td>1.000000</td>\n",
       "      <td>1.000000</td>\n",
       "    </tr>\n",
       "    <tr>\n",
       "      <th>1</th>\n",
       "      <td>1.009194</td>\n",
       "      <td>1.000626</td>\n",
       "      <td>0.999912</td>\n",
       "      <td>1.003907</td>\n",
       "      <td>0.997481</td>\n",
       "      <td>0.980892</td>\n",
       "      <td>1.005737</td>\n",
       "      <td>1.006421</td>\n",
       "      <td>1.001868</td>\n",
       "      <td>0.999978</td>\n",
       "      <td>...</td>\n",
       "      <td>1.001039</td>\n",
       "      <td>0.994876</td>\n",
       "      <td>1.000354</td>\n",
       "      <td>0.983356</td>\n",
       "      <td>1.007737</td>\n",
       "      <td>1.010764</td>\n",
       "      <td>0.996534</td>\n",
       "      <td>0.999390</td>\n",
       "      <td>1.003847</td>\n",
       "      <td>0.998183</td>\n",
       "    </tr>\n",
       "    <tr>\n",
       "      <th>2</th>\n",
       "      <td>1.015987</td>\n",
       "      <td>0.996601</td>\n",
       "      <td>0.999533</td>\n",
       "      <td>1.001345</td>\n",
       "      <td>0.987532</td>\n",
       "      <td>0.978951</td>\n",
       "      <td>1.002393</td>\n",
       "      <td>1.012566</td>\n",
       "      <td>0.992881</td>\n",
       "      <td>1.005532</td>\n",
       "      <td>...</td>\n",
       "      <td>1.008908</td>\n",
       "      <td>0.991634</td>\n",
       "      <td>1.001331</td>\n",
       "      <td>0.967811</td>\n",
       "      <td>1.005450</td>\n",
       "      <td>1.009879</td>\n",
       "      <td>0.994377</td>\n",
       "      <td>1.000688</td>\n",
       "      <td>1.001604</td>\n",
       "      <td>1.002076</td>\n",
       "    </tr>\n",
       "    <tr>\n",
       "      <th>3</th>\n",
       "      <td>1.017642</td>\n",
       "      <td>0.988682</td>\n",
       "      <td>0.995907</td>\n",
       "      <td>0.999656</td>\n",
       "      <td>0.981691</td>\n",
       "      <td>0.981642</td>\n",
       "      <td>0.986542</td>\n",
       "      <td>1.011125</td>\n",
       "      <td>0.990220</td>\n",
       "      <td>1.009728</td>\n",
       "      <td>...</td>\n",
       "      <td>0.997711</td>\n",
       "      <td>0.982689</td>\n",
       "      <td>1.002489</td>\n",
       "      <td>0.968484</td>\n",
       "      <td>1.009846</td>\n",
       "      <td>1.003760</td>\n",
       "      <td>1.009256</td>\n",
       "      <td>1.003629</td>\n",
       "      <td>0.982420</td>\n",
       "      <td>1.011921</td>\n",
       "    </tr>\n",
       "    <tr>\n",
       "      <th>4</th>\n",
       "      <td>1.025714</td>\n",
       "      <td>0.984124</td>\n",
       "      <td>1.004529</td>\n",
       "      <td>0.997946</td>\n",
       "      <td>0.971347</td>\n",
       "      <td>0.985710</td>\n",
       "      <td>0.983106</td>\n",
       "      <td>1.001317</td>\n",
       "      <td>0.985512</td>\n",
       "      <td>0.997607</td>\n",
       "      <td>...</td>\n",
       "      <td>0.993293</td>\n",
       "      <td>0.969254</td>\n",
       "      <td>0.996817</td>\n",
       "      <td>0.977651</td>\n",
       "      <td>1.001623</td>\n",
       "      <td>0.998689</td>\n",
       "      <td>1.005455</td>\n",
       "      <td>1.002651</td>\n",
       "      <td>0.977589</td>\n",
       "      <td>1.003110</td>\n",
       "    </tr>\n",
       "    <tr>\n",
       "      <th>...</th>\n",
       "      <td>...</td>\n",
       "      <td>...</td>\n",
       "      <td>...</td>\n",
       "      <td>...</td>\n",
       "      <td>...</td>\n",
       "      <td>...</td>\n",
       "      <td>...</td>\n",
       "      <td>...</td>\n",
       "      <td>...</td>\n",
       "      <td>...</td>\n",
       "      <td>...</td>\n",
       "      <td>...</td>\n",
       "      <td>...</td>\n",
       "      <td>...</td>\n",
       "      <td>...</td>\n",
       "      <td>...</td>\n",
       "      <td>...</td>\n",
       "      <td>...</td>\n",
       "      <td>...</td>\n",
       "      <td>...</td>\n",
       "      <td>...</td>\n",
       "    </tr>\n",
       "    <tr>\n",
       "      <th>7556</th>\n",
       "      <td>0.155159</td>\n",
       "      <td>0.147481</td>\n",
       "      <td>0.191560</td>\n",
       "      <td>0.090555</td>\n",
       "      <td>0.189624</td>\n",
       "      <td>0.037235</td>\n",
       "      <td>0.102627</td>\n",
       "      <td>0.080819</td>\n",
       "      <td>0.033528</td>\n",
       "      <td>0.135754</td>\n",
       "      <td>...</td>\n",
       "      <td>0.086105</td>\n",
       "      <td>0.137676</td>\n",
       "      <td>0.024717</td>\n",
       "      <td>0.117851</td>\n",
       "      <td>0.088022</td>\n",
       "      <td>0.181737</td>\n",
       "      <td>0.108721</td>\n",
       "      <td>0.159845</td>\n",
       "      <td>0.126717</td>\n",
       "      <td>0.065080</td>\n",
       "    </tr>\n",
       "    <tr>\n",
       "      <th>7557</th>\n",
       "      <td>0.154956</td>\n",
       "      <td>0.146298</td>\n",
       "      <td>0.193387</td>\n",
       "      <td>0.091294</td>\n",
       "      <td>0.189647</td>\n",
       "      <td>0.037775</td>\n",
       "      <td>0.102535</td>\n",
       "      <td>0.080857</td>\n",
       "      <td>0.033890</td>\n",
       "      <td>0.137473</td>\n",
       "      <td>...</td>\n",
       "      <td>0.085867</td>\n",
       "      <td>0.136814</td>\n",
       "      <td>0.024965</td>\n",
       "      <td>0.117360</td>\n",
       "      <td>0.087426</td>\n",
       "      <td>0.180529</td>\n",
       "      <td>0.108699</td>\n",
       "      <td>0.159421</td>\n",
       "      <td>0.126438</td>\n",
       "      <td>0.064237</td>\n",
       "    </tr>\n",
       "    <tr>\n",
       "      <th>7558</th>\n",
       "      <td>0.156390</td>\n",
       "      <td>0.147243</td>\n",
       "      <td>0.194954</td>\n",
       "      <td>0.090196</td>\n",
       "      <td>0.189558</td>\n",
       "      <td>0.038150</td>\n",
       "      <td>0.103410</td>\n",
       "      <td>0.081341</td>\n",
       "      <td>0.033553</td>\n",
       "      <td>0.137709</td>\n",
       "      <td>...</td>\n",
       "      <td>0.086178</td>\n",
       "      <td>0.137865</td>\n",
       "      <td>0.025084</td>\n",
       "      <td>0.116884</td>\n",
       "      <td>0.086935</td>\n",
       "      <td>0.180116</td>\n",
       "      <td>0.108242</td>\n",
       "      <td>0.158215</td>\n",
       "      <td>0.126412</td>\n",
       "      <td>0.064355</td>\n",
       "    </tr>\n",
       "    <tr>\n",
       "      <th>7559</th>\n",
       "      <td>0.157051</td>\n",
       "      <td>0.148907</td>\n",
       "      <td>0.196784</td>\n",
       "      <td>0.089635</td>\n",
       "      <td>0.190119</td>\n",
       "      <td>0.037836</td>\n",
       "      <td>0.103450</td>\n",
       "      <td>0.081098</td>\n",
       "      <td>0.033562</td>\n",
       "      <td>0.137820</td>\n",
       "      <td>...</td>\n",
       "      <td>0.086633</td>\n",
       "      <td>0.137277</td>\n",
       "      <td>0.025038</td>\n",
       "      <td>0.116367</td>\n",
       "      <td>0.086472</td>\n",
       "      <td>0.181736</td>\n",
       "      <td>0.108011</td>\n",
       "      <td>0.157246</td>\n",
       "      <td>0.126019</td>\n",
       "      <td>0.063902</td>\n",
       "    </tr>\n",
       "    <tr>\n",
       "      <th>7560</th>\n",
       "      <td>0.157140</td>\n",
       "      <td>0.150366</td>\n",
       "      <td>0.196070</td>\n",
       "      <td>0.089381</td>\n",
       "      <td>0.189337</td>\n",
       "      <td>0.037879</td>\n",
       "      <td>0.102925</td>\n",
       "      <td>0.081350</td>\n",
       "      <td>0.033627</td>\n",
       "      <td>0.137704</td>\n",
       "      <td>...</td>\n",
       "      <td>0.086616</td>\n",
       "      <td>0.137229</td>\n",
       "      <td>0.025135</td>\n",
       "      <td>0.115495</td>\n",
       "      <td>0.086868</td>\n",
       "      <td>0.184942</td>\n",
       "      <td>0.107709</td>\n",
       "      <td>0.157713</td>\n",
       "      <td>0.127136</td>\n",
       "      <td>0.063920</td>\n",
       "    </tr>\n",
       "  </tbody>\n",
       "</table>\n",
       "<p>7561 rows × 500 columns</p>\n",
       "</div>"
      ],
      "text/plain": [
       "           0         1         2         3         4         5         6    \\\n",
       "0     1.000000  1.000000  1.000000  1.000000  1.000000  1.000000  1.000000   \n",
       "1     1.009194  1.000626  0.999912  1.003907  0.997481  0.980892  1.005737   \n",
       "2     1.015987  0.996601  0.999533  1.001345  0.987532  0.978951  1.002393   \n",
       "3     1.017642  0.988682  0.995907  0.999656  0.981691  0.981642  0.986542   \n",
       "4     1.025714  0.984124  1.004529  0.997946  0.971347  0.985710  0.983106   \n",
       "...        ...       ...       ...       ...       ...       ...       ...   \n",
       "7556  0.155159  0.147481  0.191560  0.090555  0.189624  0.037235  0.102627   \n",
       "7557  0.154956  0.146298  0.193387  0.091294  0.189647  0.037775  0.102535   \n",
       "7558  0.156390  0.147243  0.194954  0.090196  0.189558  0.038150  0.103410   \n",
       "7559  0.157051  0.148907  0.196784  0.089635  0.190119  0.037836  0.103450   \n",
       "7560  0.157140  0.150366  0.196070  0.089381  0.189337  0.037879  0.102925   \n",
       "\n",
       "           7         8         9    ...       490       491       492  \\\n",
       "0     1.000000  1.000000  1.000000  ...  1.000000  1.000000  1.000000   \n",
       "1     1.006421  1.001868  0.999978  ...  1.001039  0.994876  1.000354   \n",
       "2     1.012566  0.992881  1.005532  ...  1.008908  0.991634  1.001331   \n",
       "3     1.011125  0.990220  1.009728  ...  0.997711  0.982689  1.002489   \n",
       "4     1.001317  0.985512  0.997607  ...  0.993293  0.969254  0.996817   \n",
       "...        ...       ...       ...  ...       ...       ...       ...   \n",
       "7556  0.080819  0.033528  0.135754  ...  0.086105  0.137676  0.024717   \n",
       "7557  0.080857  0.033890  0.137473  ...  0.085867  0.136814  0.024965   \n",
       "7558  0.081341  0.033553  0.137709  ...  0.086178  0.137865  0.025084   \n",
       "7559  0.081098  0.033562  0.137820  ...  0.086633  0.137277  0.025038   \n",
       "7560  0.081350  0.033627  0.137704  ...  0.086616  0.137229  0.025135   \n",
       "\n",
       "           493       494       495       496       497       498       499  \n",
       "0     1.000000  1.000000  1.000000  1.000000  1.000000  1.000000  1.000000  \n",
       "1     0.983356  1.007737  1.010764  0.996534  0.999390  1.003847  0.998183  \n",
       "2     0.967811  1.005450  1.009879  0.994377  1.000688  1.001604  1.002076  \n",
       "3     0.968484  1.009846  1.003760  1.009256  1.003629  0.982420  1.011921  \n",
       "4     0.977651  1.001623  0.998689  1.005455  1.002651  0.977589  1.003110  \n",
       "...        ...       ...       ...       ...       ...       ...       ...  \n",
       "7556  0.117851  0.088022  0.181737  0.108721  0.159845  0.126717  0.065080  \n",
       "7557  0.117360  0.087426  0.180529  0.108699  0.159421  0.126438  0.064237  \n",
       "7558  0.116884  0.086935  0.180116  0.108242  0.158215  0.126412  0.064355  \n",
       "7559  0.116367  0.086472  0.181736  0.108011  0.157246  0.126019  0.063902  \n",
       "7560  0.115495  0.086868  0.184942  0.107709  0.157713  0.127136  0.063920  \n",
       "\n",
       "[7561 rows x 500 columns]"
      ]
     },
     "execution_count": 71,
     "metadata": {},
     "output_type": "execute_result"
    }
   ],
   "source": [
    "# Run the Monte Carlo simulation to forecast 30 years cumulative returns\n",
    "# YOUR CODE HERE\n",
    "mcs_AGG_40_SPY_60.calc_cumulative_return()"
   ]
  },
  {
   "cell_type": "code",
   "execution_count": 72,
   "metadata": {},
   "outputs": [
    {
     "data": {
      "text/plain": [
       "<AxesSubplot:title={'center':'500 Simulations of Cumulative Portfolio Return Trajectories Over the Next 7560 Trading Days.'}>"
      ]
     },
     "execution_count": 72,
     "metadata": {},
     "output_type": "execute_result"
    },
    {
     "data": {
      "image/png": "[encoded data removed]",
      "text/plain": [
       "<Figure size 432x288 with 1 Axes>"
      ]
     },
     "metadata": {
      "needs_background": "light"
     },
     "output_type": "display_data"
    }
   ],
   "source": [
    "# Visualize the 30-year Monte Carlo simulation by creating an\n",
    "# overlay line plot\n",
    "mcs_AGG_40_SPY_60.plot_simulation()"
   ]
  },
  {
   "cell_type": "markdown",
   "metadata": {},
   "source": [
    "#### Step 3: Plot the probability distribution of the Monte Carlo simulation."
   ]
  },
  {
   "cell_type": "code",
   "execution_count": 73,
   "metadata": {},
   "outputs": [
    {
     "data": {
      "text/plain": [
       "<AxesSubplot:title={'center':'Distribution of Final Cumuluative Returns Across All 500 Simulations'}, ylabel='Frequency'>"
      ]
     },
     "execution_count": 73,
     "metadata": {},
     "output_type": "execute_result"
    },
    {
     "data": {
      "image/png": "[encoded data removed]",
      "text/plain": [
       "<Figure size 432x288 with 1 Axes>"
      ]
     },
     "metadata": {
      "needs_background": "light"
     },
     "output_type": "display_data"
    }
   ],
   "source": [
    "# Visualize the probability distribution of the 30-year Monte Carlo simulation \n",
    "# by plotting a histogram\n",
    "mcs_AGG_40_SPY_60.plot_distribution()"
   ]
  },
  {
   "cell_type": "markdown",
   "metadata": {},
   "source": [
    "#### Step 4: Generate the summary statistics for the Monte Carlo simulation."
   ]
  },
  {
   "cell_type": "code",
   "execution_count": 74,
   "metadata": {},
   "outputs": [
    {
     "data": {
      "text/plain": [
       "count           500.000000\n",
       "mean              0.131180\n",
       "std               0.076041\n",
       "min               0.022624\n",
       "25%               0.079988\n",
       "50%               0.115392\n",
       "75%               0.166156\n",
       "max               0.487621\n",
       "95% CI Lower      0.032798\n",
       "95% CI Upper      0.343610\n",
       "Name: 7560, dtype: float64"
      ]
     },
     "metadata": {},
     "output_type": "display_data"
    }
   ],
   "source": [
    "# Generate summary statistics from the 30-year Monte Carlo simulation results\n",
    "# Save the results as a variable\n",
    "mcs_AGG_40_SPY_60_stats = mcs_AGG_40_SPY_60.summarize_cumulative_return()\n",
    "\n",
    "# Review the 30-year Monte Carlo summary statistics\n",
    "display(mcs_AGG_40_SPY_60_stats)"
   ]
  },
  {
   "cell_type": "markdown",
   "metadata": {},
   "source": [
    "### Analyze the Retirement Portfolio Forecasts\n",
    "\n",
    "Using the current value of only the stock and bond portion of the member's portfolio and the summary statistics that you generated from the Monte Carlo simulation, answer the following question in your Jupyter notebook:\n",
    "\n",
    "-  What are the lower and upper bounds for the expected value of the portfolio with a 95% confidence interval?\n"
   ]
  },
  {
   "cell_type": "code",
   "execution_count": 34,
   "metadata": {},
   "outputs": [],
   "source": [
    "# Print the current balance of the stock and bond portion of the members portfolio\n",
    "# YOUR CODE HERE\n"
   ]
  },
  {
   "cell_type": "code",
   "execution_count": 35,
   "metadata": {},
   "outputs": [
    {
     "ename": "SyntaxError",
     "evalue": "invalid syntax (<ipython-input-35-b56d68dfe307>, line 2)",
     "output_type": "error",
     "traceback": [
      "\u001b[1;36m  File \u001b[1;32m\"<ipython-input-35-b56d68dfe307>\"\u001b[1;36m, line \u001b[1;32m2\u001b[0m\n\u001b[1;33m    ci_lower_thirty_cumulative_return = # YOUR CODE HERE\u001b[0m\n\u001b[1;37m                                                        ^\u001b[0m\n\u001b[1;31mSyntaxError\u001b[0m\u001b[1;31m:\u001b[0m invalid syntax\n"
     ]
    }
   ],
   "source": [
    "# Use the lower and upper `95%` confidence intervals to calculate the range of the possible outcomes for the current stock/bond portfolio\n",
    "ci_lower_thirty_cumulative_return = # YOUR CODE HERE\n",
    "ci_upper_thirty_cumulative_return = # YOUR CODE HERE\n",
    "\n",
    "# Print the result of your calculations\n",
    "# YOUR CODE HERE\n"
   ]
  },
  {
   "cell_type": "markdown",
   "metadata": {},
   "source": [
    "### Forecast Cumulative Returns in 10 Years\n",
    "\n",
    "The CTO of the credit union is impressed with your work on these planning tools but wonders if 30 years is a long time to wait until retirement. So, your next task is to adjust the retirement portfolio and run a new Monte Carlo simulation to find out if the changes will allow members to retire earlier.\n",
    "\n",
    "For this new Monte Carlo simulation, do the following: \n",
    "\n",
    "- Forecast the cumulative returns for 10 years from now. Because of the shortened investment horizon (30 years to 10 years), the portfolio needs to invest more heavily in the riskier asset&mdash;that is, stock&mdash;to help accumulate wealth for retirement. \n",
    "\n",
    "- Adjust the weights of the retirement portfolio so that the composition for the Monte Carlo simulation consists of 20% bonds and 80% stocks. \n",
    "\n",
    "- Run the simulation over 500 samples, and use the same data that the API call to Alpaca generated.\n",
    "\n",
    "- Based on the new Monte Carlo simulation, answer the following questions in your Jupyter notebook:\n",
    "\n",
    "    - Using the current value of only the stock and bond portion of the member's portfolio and the summary statistics that you generated from the new Monte Carlo simulation, what are the lower and upper bounds for the expected value of the portfolio (with the new weights) with a 95% confidence interval?\n",
    "\n",
    "    - Will weighting the portfolio more heavily toward stocks allow the credit union members to retire after only 10 years?\n"
   ]
  },
  {
   "cell_type": "code",
   "execution_count": null,
   "metadata": {},
   "outputs": [],
   "source": [
    "# Configure a Monte Carlo simulation to forecast 10 years cumulative returns\n",
    "# The weights should be split 20% to AGG and 80% to SPY.\n",
    "# Run 500 samples.\n",
    "# YOUR CODE HERE\n",
    "\n",
    "# Review the simulation input data\n",
    "# YOUR CODE HERE\n"
   ]
  },
  {
   "cell_type": "code",
   "execution_count": null,
   "metadata": {},
   "outputs": [],
   "source": [
    "# Run the Monte Carlo simulation to forecast 10 years cumulative returns\n",
    "# YOUR CODE HERE\n"
   ]
  },
  {
   "cell_type": "code",
   "execution_count": null,
   "metadata": {},
   "outputs": [],
   "source": [
    "# Visualize the 10-year Monte Carlo simulation by creating an\n",
    "# overlay line plot\n",
    "# YOUR CODE HERE\n"
   ]
  },
  {
   "cell_type": "code",
   "execution_count": null,
   "metadata": {},
   "outputs": [],
   "source": [
    "# Visualize the probability distribution of the 10-year Monte Carlo simulation \n",
    "# by plotting a histogram\n",
    "# YOUR CODE HERE\n"
   ]
  },
  {
   "cell_type": "code",
   "execution_count": null,
   "metadata": {},
   "outputs": [],
   "source": [
    "# Generate summary statistics from the 10-year Monte Carlo simulation results\n",
    "# Save the results as a variable\n",
    "# YOUR CODE HERE\n",
    "\n",
    "\n",
    "# Review the 10-year Monte Carlo summary statistics\n",
    "# YOUR CODE HERE"
   ]
  },
  {
   "cell_type": "markdown",
   "metadata": {},
   "source": [
    "### Answer the following questions:"
   ]
  },
  {
   "cell_type": "markdown",
   "metadata": {},
   "source": [
    "#### Question: Using the current value of only the stock and bond portion of the member's portfolio and the summary statistics that you generated from the new Monte Carlo simulation, what are the lower and upper bounds for the expected value of the portfolio (with the new weights) with a 95% confidence interval?"
   ]
  },
  {
   "cell_type": "code",
   "execution_count": null,
   "metadata": {},
   "outputs": [],
   "source": [
    "# Print the current balance of the stock and bond portion of the members portfolio\n",
    "# YOUR CODE HERE\n"
   ]
  },
  {
   "cell_type": "code",
   "execution_count": null,
   "metadata": {},
   "outputs": [],
   "source": [
    "# Use the lower and upper `95%` confidence intervals to calculate the range of the possible outcomes for the current stock/bond portfolio\n",
    "ci_lower_ten_cumulative_return = # YOUR CODE HERE\n",
    "ci_upper_ten_cumulative_return = # YOUR CODE HERE\n",
    "\n",
    "# Print the result of your calculations\n",
    "# YOUR CODE HERE\n"
   ]
  },
  {
   "cell_type": "markdown",
   "metadata": {},
   "source": [
    "#### Question: Will weighting the portfolio more heavily to stocks allow the credit union members to retire after only 10 years?"
   ]
  },
  {
   "cell_type": "raw",
   "metadata": {},
   "source": [
    "**Answer** # YOUR ANSWER HERE"
   ]
  },
  {
   "cell_type": "code",
   "execution_count": null,
   "metadata": {},
   "outputs": [],
   "source": []
  }
 ],
 "metadata": {
  "kernelspec": {
   "display_name": "dev",
   "language": "python",
   "name": "dev"
  },
  "language_info": {
   "codemirror_mode": {
    "name": "ipython",
    "version": 3
   },
   "file_extension": ".py",
   "mimetype": "text/x-python",
   "name": "python",
   "nbconvert_exporter": "python",
   "pygments_lexer": "ipython3",
   "version": "3.7.10"
  }
 },
 "nbformat": 4,
 "nbformat_minor": 4
}
